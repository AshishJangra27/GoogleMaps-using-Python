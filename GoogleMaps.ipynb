{
 "cells": [
  {
   "cell_type": "code",
   "execution_count": 27,
   "metadata": {},
   "outputs": [],
   "source": [
    "import googlemaps as gm                             # To get location from Google Maps\n",
    "import time                                         # Time for data-time\n",
    "import confidential as cf                           # for our functions and google maps api details\n",
    "ref = gm.Client(key=cf.api)                         # Connecting with google maps via our google maps api API"
   ]
  },
  {
   "cell_type": "code",
   "execution_count": 28,
   "metadata": {},
   "outputs": [
    {
     "name": "stdout",
     "output_type": "stream",
     "text": [
      "                         Tue Jul 17 17:08:32 2018                   \n",
      "\n",
      "         Enter any Location           :     Hollywood\n",
      "\n",
      "                               You are Offline                                 \n",
      "  *****************************************************************************\n",
      "         Location is           :     Hollywood (Los\n",
      "            State              :     Angeles) Los\n",
      "           Country             :     Angeles (County)\n",
      "       Overall Address         :     Hollywood  Hollywood  (Los  Angeles)  Los  Angeles\n",
      "  *****************************************************************************\n",
      "          Longitude            :     -118.3286614\n",
      "          Lattitude            :     34.0928092\n",
      "  *****************************************************************************\n"
     ]
    }
   ],
   "source": [
    "loc_short_name = loc_long_name = state_short_name = state_long_name = 'NA'\n",
    "country_long_name = country_short_name = pincode  = addr = longitude = lattitude = 'NA'\n",
    "                                                                              # Initialising all variable to NA\n",
    "\n",
    "print('                        ',time.ctime(),'                  ')           # Print Current Datetime\n",
    "print('')\n",
    "des = str(input(\"         Enter any Location           :     \"))              # Taking input for Location\n",
    "\n",
    "try:\n",
    "    geocode_result = ref.geocode(des)[0]        # Recieving Full info of that perticulor location in form of a dict\n",
    "                                                # It easy to understand if you prints geocode_result.\n",
    "except:\n",
    "    cf.offline(des)                             # Searching for offline if internet is not connected\n",
    "                                                # cf.offline searches from offline saved file called (History.txt)"
   ]
  },
  {
   "cell_type": "code",
   "execution_count": 23,
   "metadata": {},
   "outputs": [],
   "source": [
    "try:                               # Accessing Locations from the Dictionary.\n",
    "    loc_short_name = geocode_result['address_components'][0:1][0]['long_name']\n",
    "    loc_long_name = geocode_result['address_components'][1:2][0]['long_name']\n",
    "    state_short_name = geocode_result['address_components'][2:3][0]['short_name']\n",
    "    state_long_name = geocode_result['address_components'][2:3][0]['long_name']\n",
    "    country_long_name = geocode_result['address_components'][3:4][0]['long_name']\n",
    "    country_short_name = geocode_result['address_components'][3:4][0]['short_name']\n",
    "    pincode = geocode_result['address_components'][4:5][0]['short_name']\n",
    "    addr = geocode_result['formatted_address']\n",
    "    longitude = geocode_result['geometry']['location']['lng']\n",
    "    lattitude = geocode_result['geometry']['location']['lat']\n",
    "except:\n",
    "    pass"
   ]
  },
  {
   "cell_type": "code",
   "execution_count": 24,
   "metadata": {},
   "outputs": [
    {
     "name": "stdout",
     "output_type": "stream",
     "text": [
      "  *****************************************************************************\n",
      "         Location is           :     Hollywood (Los Angeles)\n",
      "            State              :     Los Angeles County (Los Angeles County)\n",
      "           Country             :     California (CA)\n",
      "       Overall Address         :     Hollywood, Los Angeles, CA, USA\n",
      "  *****************************************************************************\n",
      "          Longitude            :     -118.3286614\n",
      "          Lattitude            :     34.0928092\n",
      "  *****************************************************************************\n",
      "                            Location Saved Sucessfully                         \n",
      "  *****************************************************************************\n"
     ]
    }
   ],
   "source": [
    "                      # Printing the values that we get from Previous try block\n",
    "    \n",
    "print('  *****************************************************************************')\n",
    "print(\"         Location is           :    \",loc_short_name,'('+loc_long_name+')')\n",
    "print(\"            State              :    \",state_long_name,'('+state_short_name+')')\n",
    "print(\"           Country             :    \",country_long_name,'('+country_short_name+')')\n",
    "print(\"       Overall Address         :    \",addr)\n",
    "print('  *****************************************************************************')\n",
    "print(\"          Longitude            :    \",longitude)\n",
    "print(\"          Lattitude            :    \",lattitude)\n",
    "print('  *****************************************************************************')\n",
    "cf.save(des, loc_short_name, loc_long_name, state_long_name, state_short_name, country_long_name, country_short_name, addr, longitude, lattitude)\n",
    "print(\"                            Location Saved Sucessfully                         \")\n",
    "print('  *****************************************************************************')"
   ]
  },
  {
   "cell_type": "code",
   "execution_count": null,
   "metadata": {},
   "outputs": [],
   "source": []
  }
 ],
 "metadata": {
  "kernelspec": {
   "display_name": "Python 3",
   "language": "python",
   "name": "python3"
  },
  "language_info": {
   "codemirror_mode": {
    "name": "ipython",
    "version": 3
   },
   "file_extension": ".py",
   "mimetype": "text/x-python",
   "name": "python",
   "nbconvert_exporter": "python",
   "pygments_lexer": "ipython3",
   "version": "3.6.5"
  }
 },
 "nbformat": 4,
 "nbformat_minor": 2
}
